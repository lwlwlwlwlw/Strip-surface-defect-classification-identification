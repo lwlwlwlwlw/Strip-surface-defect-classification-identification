{
 "cells": [
  {
   "cell_type": "markdown",
   "source": [
    "# 带钢表面缺陷分类识别"
   ],
   "metadata": {
    "collapsed": false,
    "pycharm": {
     "name": "#%% md\n"
    }
   }
  },
  {
   "cell_type": "markdown",
   "source": [
    "### 导入相关的Python包"
   ],
   "metadata": {
    "collapsed": false,
    "pycharm": {
     "name": "#%% md\n"
    }
   }
  },
  {
   "cell_type": "code",
   "execution_count": 2,
   "outputs": [],
   "source": [
    "import pandas as pd\n",
    "import warnings\n",
    "import numpy as np"
   ],
   "metadata": {
    "collapsed": false,
    "pycharm": {
     "name": "#%%\n"
    }
   }
  },
  {
   "cell_type": "markdown",
   "source": [
    "### 数据预处理"
   ],
   "metadata": {
    "collapsed": false,
    "pycharm": {
     "name": "#%% md\n"
    }
   }
  },
  {
   "cell_type": "markdown",
   "source": [
    "#### 导入数据集"
   ],
   "metadata": {
    "collapsed": false,
    "pycharm": {
     "name": "#%% md\n"
    }
   }
  },
  {
   "cell_type": "code",
   "execution_count": 3,
   "outputs": [
    {
     "data": {
      "text/plain": "      X_Minimum  X_Maximum  Y_Minimum  Y_Maximum  Pixels_Areas  X_Perimeter  \\\n0            42         50     270900     270944           267           17   \n1           645        651    2538079    2538108           108           10   \n2           829        835    1553913    1553931            71            8   \n3           853        860     369370     369415           176           13   \n4          1289       1306     498078     498335          2409           60   \n...         ...        ...        ...        ...           ...          ...   \n1936        249        277     325780     325796           273           54   \n1937        144        175     340581     340598           287           44   \n1938        145        174     386779     386794           292           40   \n1939        137        170     422497     422528           419           97   \n1940       1261       1281      87951      87967           103           26   \n\n      Y_Perimeter  Sum_of_Luminosity  Minimum_of_Luminosity  \\\n0              44              24220                     76   \n1              30              11397                     84   \n2              19               7972                     99   \n3              45              18996                     99   \n4             260             246930                     37   \n...           ...                ...                    ...   \n1936           22              35033                    119   \n1937           24              34599                    112   \n1938           22              37572                    120   \n1939           47              52715                    117   \n1940           22              11682                    101   \n\n      Maximum_of_Luminosity  ...  Orientation_Index  Luminosity_Index  \\\n0                       108  ...             0.8182           -0.2913   \n1                       123  ...             0.7931           -0.1756   \n2                       125  ...             0.6667           -0.1228   \n3                       126  ...             0.8444           -0.1568   \n4                       126  ...             0.9338           -0.1992   \n...                     ...  ...                ...               ...   \n1936                    141  ...            -0.4286            0.0026   \n1937                    133  ...            -0.4516           -0.0582   \n1938                    140  ...            -0.4828            0.0052   \n1939                    140  ...            -0.0606           -0.0171   \n1940                    133  ...            -0.2000           -0.1139   \n\n      SigmoidOfAreas  Pastry  Z_Scratch  K_Scatch  Stains  Dirtiness  Bumps  \\\n0             0.5822       1          0         0       0          0      0   \n1             0.2984       1          0         0       0          0      0   \n2             0.2150       1          0         0       0          0      0   \n3             0.5212       1          0         0       0          0      0   \n4             1.0000       1          0         0       0          0      0   \n...              ...     ...        ...       ...     ...        ...    ...   \n1936          0.7254       0          0         0       0          0      0   \n1937          0.8173       0          0         0       0          0      0   \n1938          0.7079       0          0         0       0          0      0   \n1939          0.9919       0          0         0       0          0      0   \n1940          0.5296       0          0         0       0          0      0   \n\n      Other_Faults  \n0                0  \n1                0  \n2                0  \n3                0  \n4                0  \n...            ...  \n1936             1  \n1937             1  \n1938             1  \n1939             1  \n1940             1  \n\n[1941 rows x 34 columns]",
      "text/html": "<div>\n<style scoped>\n    .dataframe tbody tr th:only-of-type {\n        vertical-align: middle;\n    }\n\n    .dataframe tbody tr th {\n        vertical-align: top;\n    }\n\n    .dataframe thead th {\n        text-align: right;\n    }\n</style>\n<table border=\"1\" class=\"dataframe\">\n  <thead>\n    <tr style=\"text-align: right;\">\n      <th></th>\n      <th>X_Minimum</th>\n      <th>X_Maximum</th>\n      <th>Y_Minimum</th>\n      <th>Y_Maximum</th>\n      <th>Pixels_Areas</th>\n      <th>X_Perimeter</th>\n      <th>Y_Perimeter</th>\n      <th>Sum_of_Luminosity</th>\n      <th>Minimum_of_Luminosity</th>\n      <th>Maximum_of_Luminosity</th>\n      <th>...</th>\n      <th>Orientation_Index</th>\n      <th>Luminosity_Index</th>\n      <th>SigmoidOfAreas</th>\n      <th>Pastry</th>\n      <th>Z_Scratch</th>\n      <th>K_Scatch</th>\n      <th>Stains</th>\n      <th>Dirtiness</th>\n      <th>Bumps</th>\n      <th>Other_Faults</th>\n    </tr>\n  </thead>\n  <tbody>\n    <tr>\n      <th>0</th>\n      <td>42</td>\n      <td>50</td>\n      <td>270900</td>\n      <td>270944</td>\n      <td>267</td>\n      <td>17</td>\n      <td>44</td>\n      <td>24220</td>\n      <td>76</td>\n      <td>108</td>\n      <td>...</td>\n      <td>0.8182</td>\n      <td>-0.2913</td>\n      <td>0.5822</td>\n      <td>1</td>\n      <td>0</td>\n      <td>0</td>\n      <td>0</td>\n      <td>0</td>\n      <td>0</td>\n      <td>0</td>\n    </tr>\n    <tr>\n      <th>1</th>\n      <td>645</td>\n      <td>651</td>\n      <td>2538079</td>\n      <td>2538108</td>\n      <td>108</td>\n      <td>10</td>\n      <td>30</td>\n      <td>11397</td>\n      <td>84</td>\n      <td>123</td>\n      <td>...</td>\n      <td>0.7931</td>\n      <td>-0.1756</td>\n      <td>0.2984</td>\n      <td>1</td>\n      <td>0</td>\n      <td>0</td>\n      <td>0</td>\n      <td>0</td>\n      <td>0</td>\n      <td>0</td>\n    </tr>\n    <tr>\n      <th>2</th>\n      <td>829</td>\n      <td>835</td>\n      <td>1553913</td>\n      <td>1553931</td>\n      <td>71</td>\n      <td>8</td>\n      <td>19</td>\n      <td>7972</td>\n      <td>99</td>\n      <td>125</td>\n      <td>...</td>\n      <td>0.6667</td>\n      <td>-0.1228</td>\n      <td>0.2150</td>\n      <td>1</td>\n      <td>0</td>\n      <td>0</td>\n      <td>0</td>\n      <td>0</td>\n      <td>0</td>\n      <td>0</td>\n    </tr>\n    <tr>\n      <th>3</th>\n      <td>853</td>\n      <td>860</td>\n      <td>369370</td>\n      <td>369415</td>\n      <td>176</td>\n      <td>13</td>\n      <td>45</td>\n      <td>18996</td>\n      <td>99</td>\n      <td>126</td>\n      <td>...</td>\n      <td>0.8444</td>\n      <td>-0.1568</td>\n      <td>0.5212</td>\n      <td>1</td>\n      <td>0</td>\n      <td>0</td>\n      <td>0</td>\n      <td>0</td>\n      <td>0</td>\n      <td>0</td>\n    </tr>\n    <tr>\n      <th>4</th>\n      <td>1289</td>\n      <td>1306</td>\n      <td>498078</td>\n      <td>498335</td>\n      <td>2409</td>\n      <td>60</td>\n      <td>260</td>\n      <td>246930</td>\n      <td>37</td>\n      <td>126</td>\n      <td>...</td>\n      <td>0.9338</td>\n      <td>-0.1992</td>\n      <td>1.0000</td>\n      <td>1</td>\n      <td>0</td>\n      <td>0</td>\n      <td>0</td>\n      <td>0</td>\n      <td>0</td>\n      <td>0</td>\n    </tr>\n    <tr>\n      <th>...</th>\n      <td>...</td>\n      <td>...</td>\n      <td>...</td>\n      <td>...</td>\n      <td>...</td>\n      <td>...</td>\n      <td>...</td>\n      <td>...</td>\n      <td>...</td>\n      <td>...</td>\n      <td>...</td>\n      <td>...</td>\n      <td>...</td>\n      <td>...</td>\n      <td>...</td>\n      <td>...</td>\n      <td>...</td>\n      <td>...</td>\n      <td>...</td>\n      <td>...</td>\n      <td>...</td>\n    </tr>\n    <tr>\n      <th>1936</th>\n      <td>249</td>\n      <td>277</td>\n      <td>325780</td>\n      <td>325796</td>\n      <td>273</td>\n      <td>54</td>\n      <td>22</td>\n      <td>35033</td>\n      <td>119</td>\n      <td>141</td>\n      <td>...</td>\n      <td>-0.4286</td>\n      <td>0.0026</td>\n      <td>0.7254</td>\n      <td>0</td>\n      <td>0</td>\n      <td>0</td>\n      <td>0</td>\n      <td>0</td>\n      <td>0</td>\n      <td>1</td>\n    </tr>\n    <tr>\n      <th>1937</th>\n      <td>144</td>\n      <td>175</td>\n      <td>340581</td>\n      <td>340598</td>\n      <td>287</td>\n      <td>44</td>\n      <td>24</td>\n      <td>34599</td>\n      <td>112</td>\n      <td>133</td>\n      <td>...</td>\n      <td>-0.4516</td>\n      <td>-0.0582</td>\n      <td>0.8173</td>\n      <td>0</td>\n      <td>0</td>\n      <td>0</td>\n      <td>0</td>\n      <td>0</td>\n      <td>0</td>\n      <td>1</td>\n    </tr>\n    <tr>\n      <th>1938</th>\n      <td>145</td>\n      <td>174</td>\n      <td>386779</td>\n      <td>386794</td>\n      <td>292</td>\n      <td>40</td>\n      <td>22</td>\n      <td>37572</td>\n      <td>120</td>\n      <td>140</td>\n      <td>...</td>\n      <td>-0.4828</td>\n      <td>0.0052</td>\n      <td>0.7079</td>\n      <td>0</td>\n      <td>0</td>\n      <td>0</td>\n      <td>0</td>\n      <td>0</td>\n      <td>0</td>\n      <td>1</td>\n    </tr>\n    <tr>\n      <th>1939</th>\n      <td>137</td>\n      <td>170</td>\n      <td>422497</td>\n      <td>422528</td>\n      <td>419</td>\n      <td>97</td>\n      <td>47</td>\n      <td>52715</td>\n      <td>117</td>\n      <td>140</td>\n      <td>...</td>\n      <td>-0.0606</td>\n      <td>-0.0171</td>\n      <td>0.9919</td>\n      <td>0</td>\n      <td>0</td>\n      <td>0</td>\n      <td>0</td>\n      <td>0</td>\n      <td>0</td>\n      <td>1</td>\n    </tr>\n    <tr>\n      <th>1940</th>\n      <td>1261</td>\n      <td>1281</td>\n      <td>87951</td>\n      <td>87967</td>\n      <td>103</td>\n      <td>26</td>\n      <td>22</td>\n      <td>11682</td>\n      <td>101</td>\n      <td>133</td>\n      <td>...</td>\n      <td>-0.2000</td>\n      <td>-0.1139</td>\n      <td>0.5296</td>\n      <td>0</td>\n      <td>0</td>\n      <td>0</td>\n      <td>0</td>\n      <td>0</td>\n      <td>0</td>\n      <td>1</td>\n    </tr>\n  </tbody>\n</table>\n<p>1941 rows × 34 columns</p>\n</div>"
     },
     "execution_count": 3,
     "metadata": {},
     "output_type": "execute_result"
    }
   ],
   "source": [
    "# 屏蔽所有警告信息\n",
    "warnings.filterwarnings('ignore')\n",
    "# 以 DataFrame 的形式导入标签文件\n",
    "labels_pd = pd.read_csv('Faults27x7_var', header=None, prefix=\"0\")\n",
    "# 提取出标签文件的数据\n",
    "labels_data = labels_pd.values\n",
    "# 以 DataFrame的形式导入数据集\n",
    "dataset = pd.read_table('Faults.tsv', header=None, prefix=\"0\")\n",
    "# 设置数据集的标签\n",
    "dataset.columns = ['X_Minimum', 'X_Maximum', 'Y_Minimum', 'Y_Maximum', 'Pixels_Areas', 'X_Perimeter', 'Y_Perimeter', 'Sum_of_Luminosity', 'Minimum_of_Luminosity', 'Maximum_of_Luminosity', 'Length_of_Conveyer', 'TypeOfSteel_A300', 'TypeOfSteel_A400', 'Steel_Plate_Thickness', 'Edges_Index', 'Empty_Index', 'Square_Index', 'Outside_X_Index', 'Edges_X_Index', 'Edges_Y_Index', 'Outside_Global_Index', 'LogOfAreas', 'Log_X_Index', 'Log_Y_Index', 'Orientation_Index', 'Luminosity_Index', 'SigmoidOfAreas', 'Pastry', 'Z_Scratch', 'K_Scatch', 'Stains', 'Dirtiness', 'Bumps', 'Other_Faults']\n",
    "# 查看数据集\n",
    "dataset"
   ],
   "metadata": {
    "collapsed": false,
    "pycharm": {
     "name": "#%%\n"
    }
   }
  },
  {
   "cell_type": "markdown",
   "source": [
    "#### 查看数据基本信息"
   ],
   "metadata": {
    "collapsed": false,
    "pycharm": {
     "name": "#%% md\n"
    }
   }
  },
  {
   "cell_type": "code",
   "execution_count": 4,
   "outputs": [
    {
     "data": {
      "text/plain": "(1941, 34)"
     },
     "execution_count": 4,
     "metadata": {},
     "output_type": "execute_result"
    }
   ],
   "source": [
    "# 查看数据集大小\n",
    "dataset.shape"
   ],
   "metadata": {
    "collapsed": false,
    "pycharm": {
     "name": "#%%\n"
    }
   }
  },
  {
   "cell_type": "code",
   "execution_count": 5,
   "outputs": [
    {
     "data": {
      "text/plain": "X_Minimum                0\nX_Maximum                0\nY_Minimum                0\nY_Maximum                0\nPixels_Areas             0\nX_Perimeter              0\nY_Perimeter              0\nSum_of_Luminosity        0\nMinimum_of_Luminosity    0\nMaximum_of_Luminosity    0\nLength_of_Conveyer       0\nTypeOfSteel_A300         0\nTypeOfSteel_A400         0\nSteel_Plate_Thickness    0\nEdges_Index              0\nEmpty_Index              0\nSquare_Index             0\nOutside_X_Index          0\nEdges_X_Index            0\nEdges_Y_Index            0\nOutside_Global_Index     0\nLogOfAreas               0\nLog_X_Index              0\nLog_Y_Index              0\nOrientation_Index        0\nLuminosity_Index         0\nSigmoidOfAreas           0\nPastry                   0\nZ_Scratch                0\nK_Scatch                 0\nStains                   0\nDirtiness                0\nBumps                    0\nOther_Faults             0\ndtype: int64"
     },
     "execution_count": 5,
     "metadata": {},
     "output_type": "execute_result"
    }
   ],
   "source": [
    "# 查看各特征列是否有空值\n",
    "dataset.shape[0] - dataset.count(0)"
   ],
   "metadata": {
    "collapsed": false,
    "pycharm": {
     "name": "#%%\n"
    }
   }
  },
  {
   "cell_type": "code",
   "execution_count": 6,
   "outputs": [
    {
     "data": {
      "text/plain": "      category\n0            1\n1            1\n2            1\n3            1\n4            1\n...        ...\n1936         7\n1937         7\n1938         7\n1939         7\n1940         7\n\n[1941 rows x 1 columns]",
      "text/html": "<div>\n<style scoped>\n    .dataframe tbody tr th:only-of-type {\n        vertical-align: middle;\n    }\n\n    .dataframe tbody tr th {\n        vertical-align: top;\n    }\n\n    .dataframe thead th {\n        text-align: right;\n    }\n</style>\n<table border=\"1\" class=\"dataframe\">\n  <thead>\n    <tr style=\"text-align: right;\">\n      <th></th>\n      <th>category</th>\n    </tr>\n  </thead>\n  <tbody>\n    <tr>\n      <th>0</th>\n      <td>1</td>\n    </tr>\n    <tr>\n      <th>1</th>\n      <td>1</td>\n    </tr>\n    <tr>\n      <th>2</th>\n      <td>1</td>\n    </tr>\n    <tr>\n      <th>3</th>\n      <td>1</td>\n    </tr>\n    <tr>\n      <th>4</th>\n      <td>1</td>\n    </tr>\n    <tr>\n      <th>...</th>\n      <td>...</td>\n    </tr>\n    <tr>\n      <th>1936</th>\n      <td>7</td>\n    </tr>\n    <tr>\n      <th>1937</th>\n      <td>7</td>\n    </tr>\n    <tr>\n      <th>1938</th>\n      <td>7</td>\n    </tr>\n    <tr>\n      <th>1939</th>\n      <td>7</td>\n    </tr>\n    <tr>\n      <th>1940</th>\n      <td>7</td>\n    </tr>\n  </tbody>\n</table>\n<p>1941 rows × 1 columns</p>\n</div>"
     },
     "execution_count": 6,
     "metadata": {},
     "output_type": "execute_result"
    }
   ],
   "source": [
    "# 将输入特征与输出特征分开\n",
    "X = dataset[['X_Minimum', 'X_Maximum', 'Y_Minimum', 'Y_Maximum', 'Pixels_Areas', 'X_Perimeter', 'Y_Perimeter', 'Sum_of_Luminosity', 'Minimum_of_Luminosity', 'Maximum_of_Luminosity', 'Length_of_Conveyer', 'TypeOfSteel_A300', 'TypeOfSteel_A400', 'Steel_Plate_Thickness', 'Edges_Index', 'Empty_Index', 'Square_Index', 'Outside_X_Index', 'Edges_X_Index', 'Edges_Y_Index', 'Outside_Global_Index', 'LogOfAreas', 'Log_X_Index', 'Log_Y_Index', 'Orientation_Index', 'Luminosity_Index', 'SigmoidOfAreas']]\n",
    "# 将dataset数据集转为二维数组\n",
    "dataset_data = dataset.values\n",
    "# 将原数据集的Y化简到1维，Pastry为1，Z_Scratch为2，以此类推直到7\n",
    "Y_data = []\n",
    "for i in range(len(dataset_data)):\n",
    "    for j in range(27, 34, 1):\n",
    "        if (dataset_data[i][j] == 1):\n",
    "           Y_data.append(j - 27 + 1)\n",
    "# 输出集\n",
    "Y = pd.DataFrame(Y_data)\n",
    "Y.columns = ['category']"
   ],
   "metadata": {
    "collapsed": false,
    "pycharm": {
     "name": "#%%\n"
    }
   }
  },
  {
   "cell_type": "code",
   "execution_count": null,
   "outputs": [],
   "source": [],
   "metadata": {
    "collapsed": false,
    "pycharm": {
     "name": "#%%\n",
     "is_executing": true
    }
   }
  }
 ],
 "metadata": {
  "kernelspec": {
   "name": "env_da",
   "language": "python",
   "display_name": "env_da"
  },
  "language_info": {
   "codemirror_mode": {
    "name": "ipython",
    "version": 2
   },
   "file_extension": ".py",
   "mimetype": "text/x-python",
   "name": "python",
   "nbconvert_exporter": "python",
   "pygments_lexer": "ipython2",
   "version": "2.7.6"
  }
 },
 "nbformat": 4,
 "nbformat_minor": 0
}